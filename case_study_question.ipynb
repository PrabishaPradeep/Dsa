{
  "cells": [
    {
      "cell_type": "markdown",
      "metadata": {
        "id": "view-in-github",
        "colab_type": "text"
      },
      "source": [
        "<a href=\"https://colab.research.google.com/github/PrabishaPradeep/Dsa/blob/main/case_study_question.ipynb\" target=\"_parent\"><img src=\"https://colab.research.google.com/assets/colab-badge.svg\" alt=\"Open In Colab\"/></a>"
      ]
    },
    {
      "cell_type": "markdown",
      "metadata": {
        "id": "Dx5oz5xKSpPT"
      },
      "source": [
        "### **CASE STUDY ON TESTING OF HYPOTHESIS**\n",
        "\n",
        "---\n",
        "\n",
        "\n",
        "\n",
        "\n",
        "\n",
        "\n",
        "\n"
      ]
    },
    {
      "cell_type": "markdown",
      "metadata": {
        "id": "rZvcYDX2Tc3f"
      },
      "source": [
        "A company started to invest in digital marketing as a new way of their product\n",
        "promotions. For that they collected data and decided to carry out a study on it.\n"
      ]
    },
    {
      "cell_type": "code",
      "execution_count": null,
      "metadata": {
        "colab": {
          "base_uri": "https://localhost:8080/"
        },
        "id": "8bjhqwXDTSJ3",
        "outputId": "bb1572f0-2dc7-4169-bac7-610fb173632a"
      },
      "outputs": [
        {
          "name": "stdout",
          "output_type": "stream",
          "text": [
            "       Month      Region      Manager  Sales_before_digital_add(in $)  \\\n",
            "0    Month-1  Region - A  Manager - A                          132921   \n",
            "1    Month-2  Region - A  Manager - C                          149559   \n",
            "2    Month-3  Region - B  Manager - A                          146278   \n",
            "3    Month-4  Region - B  Manager - B                          152167   \n",
            "4    Month-5  Region - C  Manager - B                          159525   \n",
            "5    Month-6  Region - A  Manager - B                          137163   \n",
            "6    Month-7  Region - C  Manager - C                          130625   \n",
            "7    Month-8  Region - A  Manager - A                          131140   \n",
            "8    Month-9  Region - B  Manager - C                          171259   \n",
            "9   Month-10  Region - C  Manager - B                          141956   \n",
            "10  Month-11  Region - B  Manager - C                          159339   \n",
            "11  Month-12  Region - A  Manager - A                          178939   \n",
            "12  Month-13  Region - B  Manager - A                          145062   \n",
            "13  Month-14  Region - A  Manager - A                          151514   \n",
            "14  Month-15  Region - C  Manager - A                          147463   \n",
            "15  Month-16  Region - A  Manager - B                          177195   \n",
            "16  Month-17  Region - A  Manager - C                          140862   \n",
            "17  Month-18  Region - C  Manager - B                          167996   \n",
            "18  Month-19  Region - B  Manager - A                          132135   \n",
            "19  Month-20  Region - A  Manager - B                          152493   \n",
            "20  Month-21  Region - B  Manager - A                          147425   \n",
            "21  Month-22  Region - A  Manager - C                          130263   \n",
            "\n",
            "    Sales_After_digital_add(in $)  \n",
            "0                          270390  \n",
            "1                          223334  \n",
            "2                          244243  \n",
            "3                          231808  \n",
            "4                          258402  \n",
            "5                          256948  \n",
            "6                          222106  \n",
            "7                          230637  \n",
            "8                          226261  \n",
            "9                          193735  \n",
            "10                         203175  \n",
            "11                         276279  \n",
            "12                         205180  \n",
            "13                         253131  \n",
            "14                         229336  \n",
            "15                         187305  \n",
            "16                         234908  \n",
            "17                         191517  \n",
            "18                         227040  \n",
            "19                         212579  \n",
            "20                         263388  \n",
            "21                         243020  \n"
          ]
        }
      ],
      "source": [
        "import numpy as np\n",
        "import pandas as pd\n",
        "from scipy import stats\n",
        "sales=pd.read_csv('/content/Sales_add.csv')\n",
        "print(sales)"
      ]
    },
    {
      "cell_type": "markdown",
      "metadata": {
        "id": "ZHu49Y1mb8ld"
      },
      "source": [
        "\n",
        "1. The company wishes to clarify whether there is any increase in sales after stepping into digital marketing.  \n",
        "\n",
        "\n"
      ]
    },
    {
      "cell_type": "code",
      "execution_count": null,
      "metadata": {
        "id": "1ObegY2Qb9Fs"
      },
      "outputs": [],
      "source": [
        "# nullhypothesis,  H0= there is no increase in sales after stepping into digital marketing.\n",
        "# alternative hypothesis, H1= there is a significant increase in sales after stepping into digital marketing.\n",
        "\n"
      ]
    },
    {
      "cell_type": "code",
      "execution_count": null,
      "metadata": {
        "colab": {
          "base_uri": "https://localhost:8080/"
        },
        "id": "JCgSCZq8d7XK",
        "outputId": "64dc2a64-29d2-4023-c80f-8bffecb19f7c"
      },
      "outputs": [
        {
          "name": "stdout",
          "output_type": "stream",
          "text": [
            "0     132921\n",
            "1     149559\n",
            "2     146278\n",
            "3     152167\n",
            "4     159525\n",
            "5     137163\n",
            "6     130625\n",
            "7     131140\n",
            "8     171259\n",
            "9     141956\n",
            "10    159339\n",
            "11    178939\n",
            "12    145062\n",
            "13    151514\n",
            "14    147463\n",
            "15    177195\n",
            "16    140862\n",
            "17    167996\n",
            "18    132135\n",
            "19    152493\n",
            "20    147425\n",
            "21    130263\n",
            "Name: Sales_before_digital_add(in $), dtype: int64\n"
          ]
        }
      ],
      "source": [
        "sales_before=sales['Sales_before_digital_add(in $)']\n",
        "print(sales_before)\n"
      ]
    },
    {
      "cell_type": "code",
      "execution_count": null,
      "metadata": {
        "colab": {
          "base_uri": "https://localhost:8080/"
        },
        "id": "sBiAxJjxewLr",
        "outputId": "91c47922-1909-4951-bade-d8e615e00b58"
      },
      "outputs": [
        {
          "name": "stdout",
          "output_type": "stream",
          "text": [
            "0     270390\n",
            "1     223334\n",
            "2     244243\n",
            "3     231808\n",
            "4     258402\n",
            "5     256948\n",
            "6     222106\n",
            "7     230637\n",
            "8     226261\n",
            "9     193735\n",
            "10    203175\n",
            "11    276279\n",
            "12    205180\n",
            "13    253131\n",
            "14    229336\n",
            "15    187305\n",
            "16    234908\n",
            "17    191517\n",
            "18    227040\n",
            "19    212579\n",
            "20    263388\n",
            "21    243020\n",
            "Name: Sales_After_digital_add(in $), dtype: int64\n"
          ]
        }
      ],
      "source": [
        "sales_after=sales['Sales_After_digital_add(in $)']\n",
        "print(sales_after)"
      ]
    },
    {
      "cell_type": "code",
      "execution_count": null,
      "metadata": {
        "colab": {
          "base_uri": "https://localhost:8080/"
        },
        "id": "UiRrrQAyc2Eg",
        "outputId": "6f0f8283-d765-4c42-84a5-d53632f479e6"
      },
      "outputs": [
        {
          "output_type": "stream",
          "name": "stdout",
          "text": [
            "p-value : 6.336667004575778e-11\n",
            "reject null hypothesis\n"
          ]
        }
      ],
      "source": [
        "#we can test the significant difference between two related variables is using a paired sampled t test\n",
        "\n",
        "t_statistics,p_value=stats.ttest_rel(sales_before,sales_after)\n",
        "print(\"p-value :\",p_value)\n",
        "if p_value<0.05:\n",
        "    print('reject null hypothesis')\n",
        "else:\n",
        "    print('accept null hypothesis')"
      ]
    },
    {
      "cell_type": "markdown",
      "metadata": {
        "id": "83lelu0JgMsT"
      },
      "source": [
        "thus there is a significant increase in sales of the company after stepping into digital marketing.\n"
      ]
    },
    {
      "cell_type": "markdown",
      "metadata": {
        "id": "doyvrcPYhqS0"
      },
      "source": [
        "\n",
        "\n",
        "2.   The company needs to check whether there is any dependency between\n",
        "the features “Region” and “Manager”.\n",
        "\n",
        "\n"
      ]
    },
    {
      "cell_type": "markdown",
      "source": [
        "Null hypothesis H0 = there is no significant dependency between “Region” and “Manager”.\n",
        "\n",
        "Alternative hypothesis H1 = the variables “Region” and “Manager” are dependent"
      ],
      "metadata": {
        "id": "cH8mXidK7q-m"
      }
    },
    {
      "cell_type": "code",
      "execution_count": null,
      "metadata": {
        "colab": {
          "base_uri": "https://localhost:8080/"
        },
        "id": "M6po0QP1hoOD",
        "outputId": "be0ab9f4-b2c9-4277-bed1-34e71fb153f4"
      },
      "outputs": [
        {
          "output_type": "stream",
          "name": "stdout",
          "text": [
            "Manager     Manager - A  Manager - B  Manager - C\n",
            "Region                                           \n",
            "Region - A            4            3            3\n",
            "Region - B            4            1            2\n",
            "Region - C            1            3            1\n",
            "p_value : 0.5493991051158094\n",
            "accept null hypothesis\n"
          ]
        }
      ],
      "source": [
        "# we can perform chi square test of independance to test the dependancy between the features regions and manager.\n",
        "from scipy.stats import chi2_contingency\n",
        "contigency_table=pd.crosstab(sales['Region'],sales['Manager'])\n",
        "print(contigency_table)\n",
        "chi2,p_value,dof,expected_value = chi2_contingency(contigency_table)\n",
        "print('p_value :',p_value)\n",
        "if p_value<0.05:\n",
        "    print('reject null hypothesis')\n",
        "else:\n",
        "    print('accept null hypothesis')"
      ]
    },
    {
      "cell_type": "markdown",
      "source": [
        "thus we can see that there is no significant dependency between the features region and manager."
      ],
      "metadata": {
        "id": "eUcHSPA57GHK"
      }
    }
  ],
  "metadata": {
    "colab": {
      "provenance": [],
      "authorship_tag": "ABX9TyPINj5iYIQkcNOLFrKQ7+RD",
      "include_colab_link": true
    },
    "kernelspec": {
      "display_name": "Python 3",
      "name": "python3"
    },
    "language_info": {
      "name": "python"
    }
  },
  "nbformat": 4,
  "nbformat_minor": 0
}