{
  "nbformat": 4,
  "nbformat_minor": 0,
  "metadata": {
    "colab": {
      "provenance": [],
      "authorship_tag": "ABX9TyPMIJ1tqfgxyUyXsd0x7G+Z",
      "include_colab_link": true
    },
    "kernelspec": {
      "name": "python3",
      "display_name": "Python 3"
    },
    "language_info": {
      "name": "python"
    }
  },
  "cells": [
    {
      "cell_type": "markdown",
      "metadata": {
        "id": "view-in-github",
        "colab_type": "text"
      },
      "source": [
        "<a href=\"https://colab.research.google.com/github/PrabishaPradeep/Dsa/blob/main/Practice_problems_2.ipynb\" target=\"_parent\"><img src=\"https://colab.research.google.com/assets/colab-badge.svg\" alt=\"Open In Colab\"/></a>"
      ]
    },
    {
      "cell_type": "markdown",
      "source": [
        "1.Write a Python program to accept a string value from the user and display the count of each character in that string. Sample input: Enter a string value: assembly Sample output: a=1, s=2, e=1, m=1, b=1, l=1, y=1"
      ],
      "metadata": {
        "id": "Q8W0O3xYYc-h"
      }
    },
    {
      "cell_type": "code",
      "source": [
        "inp_str = input(\"Enter the string:\")\n",
        "for x in set(inp_str):\n",
        "    count=inp_str.count(x)\n",
        "    print(f\" {x}- \"+ str(count))"
      ],
      "metadata": {
        "colab": {
          "base_uri": "https://localhost:8080/"
        },
        "id": "BCT8MmQ9YeoN",
        "outputId": "b215a695-1dd3-451f-a8f8-ad5347bef5c2"
      },
      "execution_count": null,
      "outputs": [
        {
          "output_type": "stream",
          "name": "stdout",
          "text": [
            "Enter the string:prabisha\n",
            " a- 2\n",
            " b- 1\n",
            " s- 1\n",
            " p- 1\n",
            " r- 1\n",
            " h- 1\n",
            " i- 1\n"
          ]
        }
      ]
    },
    {
      "cell_type": "markdown",
      "source": [
        "2.Write a Python function to find the maximum of three numbers. Sample input: 34,12,7 Sample output = 34"
      ],
      "metadata": {
        "id": "jbcREeF8ZDKO"
      }
    },
    {
      "cell_type": "code",
      "source": [
        "n1=int(input(\"Enter the number: \"))\n",
        "n2=int(input(\"Enter the number: \"))\n",
        "n3=int(input(\"Enter the number: \"))\n",
        "maximum=max(n1,n2,n3)\n",
        "print(maximum)"
      ],
      "metadata": {
        "colab": {
          "base_uri": "https://localhost:8080/"
        },
        "id": "os4v6ukjZIh2",
        "outputId": "0565dcac-e14a-441e-e696-4e68be933356"
      },
      "execution_count": null,
      "outputs": [
        {
          "output_type": "stream",
          "name": "stdout",
          "text": [
            "Enter the number: 34\n",
            "Enter the number: 12\n",
            "Enter the number: 7\n",
            "34\n"
          ]
        }
      ]
    },
    {
      "cell_type": "markdown",
      "source": [
        "3.Write a Python function called exponent(base,exp) that returns an integer value of base raises to the power of exp. Sample input: Enter the base: 2 Enter the exponent: 3 Sample output: 8"
      ],
      "metadata": {
        "id": "CoqyIE1jZZMt"
      }
    },
    {
      "cell_type": "code",
      "source": [
        "def exponent(base,exp):\n",
        "    return(base**exp)\n",
        "x=int(input(\"Enter the base \"))\n",
        "y=int(input(\"Enter the exponent \"))\n",
        "exponent(x, y)"
      ],
      "metadata": {
        "colab": {
          "base_uri": "https://localhost:8080/"
        },
        "id": "mAC5uiYjZjkR",
        "outputId": "93f78008-d98f-4ce6-cdde-e67f39b673bf"
      },
      "execution_count": null,
      "outputs": [
        {
          "name": "stdout",
          "output_type": "stream",
          "text": [
            "Enter the base 2\n",
            "Enter the exponent 3\n"
          ]
        },
        {
          "output_type": "execute_result",
          "data": {
            "text/plain": [
              "8"
            ]
          },
          "metadata": {},
          "execution_count": 4
        }
      ]
    },
    {
      "cell_type": "markdown",
      "source": [
        "4.Write a Python function that takes a positive integer and returns the sum of the cube of all the positive integers smaller than the specified number. Sample input: 4 Sample output: 36."
      ],
      "metadata": {
        "id": "Nh91FrHGZyDE"
      }
    },
    {
      "cell_type": "code",
      "source": [
        "n=int(input(\"Enter the number\"))\n",
        "i=0\n",
        "sum=0\n",
        "for i in range(n):\n",
        "    sum=sum+i**3\n",
        "print(sum)"
      ],
      "metadata": {
        "colab": {
          "base_uri": "https://localhost:8080/"
        },
        "id": "758NEeA5Z-3f",
        "outputId": "9b36f7b1-c107-4673-c501-d2309466b5ab"
      },
      "execution_count": null,
      "outputs": [
        {
          "output_type": "stream",
          "name": "stdout",
          "text": [
            "Enter the number4\n",
            "36\n"
          ]
        }
      ]
    },
    {
      "cell_type": "markdown",
      "source": [
        "5.Write a Python program which iterates from 1 to 10. For multiples of 2, print “Fizz” instead of the number and for the multiples of 5, print “Buzz”. For numbers which are multiples of both 2 and 5, print “FizzBuzz”. Sample input: numbers from 1 to 10 Sample output: 1 Fizz 3 Fizz Buzz Fizz 7 Fizz 9 FizzBuzz"
      ],
      "metadata": {
        "id": "XUZPHbcFaLDt"
      }
    },
    {
      "cell_type": "code",
      "source": [
        "for i in range(1,11):\n",
        "    if i%2==0 and i%5==0:\n",
        "        print(\"FizzBuzz\")\n",
        "    elif i%2==0:\n",
        "        print(\"Fizz\")\n",
        "    elif i%5==0:\n",
        "        print(\"Buzz\")\n",
        "    else:\n",
        "        print(i)"
      ],
      "metadata": {
        "colab": {
          "base_uri": "https://localhost:8080/"
        },
        "id": "QCT0wr63aV1i",
        "outputId": "eb7d9063-0ba7-4314-b2cb-2245bed9d238"
      },
      "execution_count": null,
      "outputs": [
        {
          "output_type": "stream",
          "name": "stdout",
          "text": [
            "1\n",
            "Fizz\n",
            "3\n",
            "Fizz\n",
            "Buzz\n",
            "Fizz\n",
            "7\n",
            "Fizz\n",
            "9\n",
            "FizzBuzz\n"
          ]
        }
      ]
    },
    {
      "cell_type": "markdown",
      "source": [
        "6.Write a Python program to find the most frequent item in a list of numbers. Sample input: 2, 3, 4, 2, 5, 2 Sample output: 2"
      ],
      "metadata": {
        "id": "ufVpn7kLackF"
      }
    },
    {
      "cell_type": "code",
      "source": [
        "x=[2,3,4,2,5,2]\n",
        "element=max(set(x),key=x.count)\n",
        "print(element)"
      ],
      "metadata": {
        "colab": {
          "base_uri": "https://localhost:8080/"
        },
        "id": "jjO_o_p9akF0",
        "outputId": "184db62b-e51c-4fca-81f4-c2c19507b535"
      },
      "execution_count": null,
      "outputs": [
        {
          "output_type": "stream",
          "name": "stdout",
          "text": [
            "2\n"
          ]
        }
      ]
    },
    {
      "cell_type": "markdown",
      "source": [
        "7.Write a Python program to find the sum of squares of the numbers in a list. Sample input: 2,1,3,1 Sample output :15"
      ],
      "metadata": {
        "id": "2rs_Ktxyas-V"
      }
    },
    {
      "cell_type": "code",
      "source": [
        "a=[2,1,3,1]\n",
        "i=0\n",
        "sum=0\n",
        "for i in a:\n",
        "    sum=sum+i**2\n",
        "print(sum)"
      ],
      "metadata": {
        "colab": {
          "base_uri": "https://localhost:8080/"
        },
        "id": "QJPWF8Era1K5",
        "outputId": "21f0f324-21bf-484d-f0e2-1184bc0beaf5"
      },
      "execution_count": null,
      "outputs": [
        {
          "output_type": "stream",
          "name": "stdout",
          "text": [
            "15\n"
          ]
        }
      ]
    },
    {
      "cell_type": "markdown",
      "source": [
        "8.Write a Python program using for loop that will iterate from 1 to 15. For each iteration, check if the current number is odd or even, and display the message to the screen as odd or even. Sample input: 1….15 Sample output: 1-odd 2-even …. 15-odd"
      ],
      "metadata": {
        "id": "zzjJ99cybDsK"
      }
    },
    {
      "cell_type": "code",
      "source": [
        "for i in range(1,16):\n",
        "    if i%2==0:\n",
        "        print(i,\"-\",\"even\")\n",
        "    else:\n",
        "        print(i,\"-\",\"odd\")"
      ],
      "metadata": {
        "colab": {
          "base_uri": "https://localhost:8080/"
        },
        "id": "KveH_cqhbRgH",
        "outputId": "026ad2cf-5fb5-470e-f276-77c18de7b6ab"
      },
      "execution_count": null,
      "outputs": [
        {
          "output_type": "stream",
          "name": "stdout",
          "text": [
            "1 - odd\n",
            "2 - even\n",
            "3 - odd\n",
            "4 - even\n",
            "5 - odd\n",
            "6 - even\n",
            "7 - odd\n",
            "8 - even\n",
            "9 - odd\n",
            "10 - even\n",
            "11 - odd\n",
            "12 - even\n",
            "13 - odd\n",
            "14 - even\n",
            "15 - odd\n"
          ]
        }
      ]
    },
    {
      "cell_type": "markdown",
      "source": [
        "9.Write a Python program to convert temperatures to and from Celsius Fahrenheit. [Formula: c/5=f-32/9 where c=temperature in Celsius and f= temperature in Fahrenheit.] Sample input: Temperature in Fahrenheit =41 Sample output: Temperature in Celsius =5"
      ],
      "metadata": {
        "id": "w_296t1HbkfI"
      }
    },
    {
      "cell_type": "code",
      "source": [
        "F=int(input(\"Temperature in Fahrenheit:\"))\n",
        "C=(F - 32) * 5 / 9\n",
        "print(\"Temperature in Celsius\",C)"
      ],
      "metadata": {
        "colab": {
          "base_uri": "https://localhost:8080/"
        },
        "id": "qatI0ChsbrZB",
        "outputId": "8ea9aadc-13ab-4d75-a910-fe2bfa598465"
      },
      "execution_count": null,
      "outputs": [
        {
          "output_type": "stream",
          "name": "stdout",
          "text": [
            "Temperature in Fahrenheit:41\n",
            "Temperature in Celsius 5.0\n"
          ]
        }
      ]
    },
    {
      "cell_type": "markdown",
      "source": [
        "10.Write a Python function to calculate the factorial of a number (a nonnegative integer). The function accepts the number as an argument. Sample input: 3 Sample output: 6"
      ],
      "metadata": {
        "id": "zpodAIBEb4BE"
      }
    },
    {
      "cell_type": "code",
      "source": [
        "def factorial(n):\n",
        "    if (n==1 or n==0):\n",
        "        return 1\n",
        "    else:\n",
        "        return n * factorial(n - 1)\n",
        "factorial(3)"
      ],
      "metadata": {
        "colab": {
          "base_uri": "https://localhost:8080/"
        },
        "id": "DwHq-AwEcGfY",
        "outputId": "2b0c60a1-d812-44e3-86fb-df6f7c38a73d"
      },
      "execution_count": null,
      "outputs": [
        {
          "output_type": "execute_result",
          "data": {
            "text/plain": [
              "6"
            ]
          },
          "metadata": {},
          "execution_count": 11
        }
      ]
    }
  ]
}